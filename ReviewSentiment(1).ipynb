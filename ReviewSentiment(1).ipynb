{
  "cells": [
    {
      "cell_type": "code",
      "execution_count": null,
      "metadata": {
        "colab": {
          "base_uri": "https://localhost:8080/"
        },
        "id": "vvQa7pplDIaj",
        "outputId": "b5821028-9e73-4c4b-bf7b-56e7061f6236"
      },
      "outputs": [
        {
          "output_type": "stream",
          "name": "stdout",
          "text": [
            "Cloning into 'LFS_Datasets'...\n",
            "remote: Enumerating objects: 11, done.\u001b[K\n",
            "remote: Counting objects: 100% (11/11), done.\u001b[K\n",
            "remote: Compressing objects: 100% (8/8), done.\u001b[K\n",
            "remote: Total 11 (delta 2), reused 11 (delta 2), pack-reused 0\u001b[K\n",
            "Unpacking objects: 100% (11/11), done.\n"
          ]
        }
      ],
      "source": [
        "!git clone https://github.com/catInOrbit/LFS_Datasets.git"
      ]
    },
    {
      "cell_type": "code",
      "execution_count": null,
      "metadata": {
        "colab": {
          "base_uri": "https://localhost:8080/"
        },
        "id": "DD-q3mfTF3Jf",
        "outputId": "8c5ff7c2-3599-4f9a-e39b-149758a2c3e4"
      },
      "outputs": [
        {
          "output_type": "stream",
          "name": "stdout",
          "text": [
            "Reading package lists... Done\n",
            "Building dependency tree       \n",
            "Reading state information... Done\n",
            "The following NEW packages will be installed:\n",
            "  git-lfs\n",
            "0 upgraded, 1 newly installed, 0 to remove and 37 not upgraded.\n",
            "Need to get 2,129 kB of archives.\n",
            "After this operation, 7,662 kB of additional disk space will be used.\n",
            "Get:1 http://archive.ubuntu.com/ubuntu bionic/universe amd64 git-lfs amd64 2.3.4-1 [2,129 kB]\n",
            "Fetched 2,129 kB in 0s (18.7 MB/s)\n",
            "debconf: unable to initialize frontend: Dialog\n",
            "debconf: (No usable dialog-like program is installed, so the dialog based frontend cannot be used. at /usr/share/perl5/Debconf/FrontEnd/Dialog.pm line 76, <> line 1.)\n",
            "debconf: falling back to frontend: Readline\n",
            "debconf: unable to initialize frontend: Readline\n",
            "debconf: (This frontend requires a controlling tty.)\n",
            "debconf: falling back to frontend: Teletype\n",
            "dpkg-preconfigure: unable to re-open stdin: \n",
            "Selecting previously unselected package git-lfs.\n",
            "(Reading database ... 155225 files and directories currently installed.)\n",
            "Preparing to unpack .../git-lfs_2.3.4-1_amd64.deb ...\n",
            "Unpacking git-lfs (2.3.4-1) ...\n",
            "Setting up git-lfs (2.3.4-1) ...\n",
            "Processing triggers for man-db (2.8.3-2ubuntu0.1) ...\n"
          ]
        }
      ],
      "source": [
        "!sudo apt-get install git-lfs"
      ]
    },
    {
      "cell_type": "code",
      "execution_count": null,
      "metadata": {
        "colab": {
          "base_uri": "https://localhost:8080/"
        },
        "id": "PnjNF8tmF--Q",
        "outputId": "8264701d-da79-4c3a-bfec-29abc5ef0f37"
      },
      "outputs": [
        {
          "output_type": "stream",
          "name": "stdout",
          "text": [
            "/content/LFS_Datasets\n",
            "Updated git hooks.\n",
            "Git LFS initialized.\n",
            "Fetching main\n",
            "Git LFS: (2 of 2 files) 178.92 MB / 178.92 MB\n"
          ]
        }
      ],
      "source": [
        "%cd /content/LFS_Datasets\n",
        "!git lfs install\n",
        "!git checkout .\n",
        "!git lfs fetch\n",
        "!git lfs pull"
      ]
    },
    {
      "cell_type": "markdown",
      "source": [
        "**Path Constants**"
      ],
      "metadata": {
        "id": "fUvaJz_iFVI-"
      }
    },
    {
      "cell_type": "code",
      "source": [
        "# import os\n",
        "\n",
        "# PROJECT_ROOT = os.path.dirname(__file__)\n",
        "# ENCODER_PATH = os.path.join(PROJECT_ROOT, 'encoder.pkl')\n",
        "# MODEL_PATH = os.path.join(PROJECT_ROOT, 'model_saved_multi')\n",
        "# MODEL_WEIGHTS_PATH = os.path.join(PROJECT_ROOT, 'model_weights_multi/weights.h5')"
      ],
      "metadata": {
        "colab": {
          "base_uri": "https://localhost:8080/",
          "height": 237
        },
        "id": "YV8h53wGFUEk",
        "outputId": "86e8037f-18aa-4180-efca-3e4aeb86fc48"
      },
      "execution_count": null,
      "outputs": [
        {
          "output_type": "error",
          "ename": "NameError",
          "evalue": "ignored",
          "traceback": [
            "\u001b[0;31m---------------------------------------------------------------------------\u001b[0m",
            "\u001b[0;31mNameError\u001b[0m                                 Traceback (most recent call last)",
            "\u001b[0;32m<ipython-input-5-91b8d8526e49>\u001b[0m in \u001b[0;36m<module>\u001b[0;34m()\u001b[0m\n\u001b[1;32m      1\u001b[0m \u001b[0;32mimport\u001b[0m \u001b[0mos\u001b[0m\u001b[0;34m\u001b[0m\u001b[0;34m\u001b[0m\u001b[0m\n\u001b[1;32m      2\u001b[0m \u001b[0;34m\u001b[0m\u001b[0m\n\u001b[0;32m----> 3\u001b[0;31m \u001b[0mPROJECT_ROOT\u001b[0m \u001b[0;34m=\u001b[0m \u001b[0mos\u001b[0m\u001b[0;34m.\u001b[0m\u001b[0mpath\u001b[0m\u001b[0;34m.\u001b[0m\u001b[0mdirname\u001b[0m\u001b[0;34m(\u001b[0m\u001b[0msys\u001b[0m\u001b[0;34m.\u001b[0m\u001b[0margv\u001b[0m\u001b[0;34m[\u001b[0m\u001b[0;36m0\u001b[0m\u001b[0;34m]\u001b[0m\u001b[0;34m)\u001b[0m\u001b[0;34m\u001b[0m\u001b[0;34m\u001b[0m\u001b[0m\n\u001b[0m\u001b[1;32m      4\u001b[0m \u001b[0mENCODER_PATH\u001b[0m \u001b[0;34m=\u001b[0m \u001b[0mos\u001b[0m\u001b[0;34m.\u001b[0m\u001b[0mpath\u001b[0m\u001b[0;34m.\u001b[0m\u001b[0mjoin\u001b[0m\u001b[0;34m(\u001b[0m\u001b[0mPROJECT_ROOT\u001b[0m\u001b[0;34m,\u001b[0m \u001b[0;34m'encoder.pkl'\u001b[0m\u001b[0;34m)\u001b[0m\u001b[0;34m\u001b[0m\u001b[0;34m\u001b[0m\u001b[0m\n\u001b[1;32m      5\u001b[0m \u001b[0mMODEL_PATH\u001b[0m \u001b[0;34m=\u001b[0m \u001b[0mos\u001b[0m\u001b[0;34m.\u001b[0m\u001b[0mpath\u001b[0m\u001b[0;34m.\u001b[0m\u001b[0mjoin\u001b[0m\u001b[0;34m(\u001b[0m\u001b[0mPROJECT_ROOT\u001b[0m\u001b[0;34m,\u001b[0m \u001b[0;34m'model_saved_multi'\u001b[0m\u001b[0;34m)\u001b[0m\u001b[0;34m\u001b[0m\u001b[0;34m\u001b[0m\u001b[0m\n",
            "\u001b[0;31mNameError\u001b[0m: name 'sys' is not defined"
          ]
        }
      ]
    },
    {
      "cell_type": "markdown",
      "source": [
        "**Preprocessing**"
      ],
      "metadata": {
        "id": "NLeYwVUlExqo"
      }
    },
    {
      "cell_type": "code",
      "execution_count": null,
      "metadata": {
        "id": "jLhnAjQ-mhN8"
      },
      "outputs": [],
      "source": [
        "import pandas as pd\n",
        "\n",
        "def load_dataframe(json_filePath):\n",
        "    dataframe = pd.read_json(json_filePath, lines=True)\n",
        "    dataframe = dataframe.loc[:, [\"overall\", \"reviewText\"]]\n",
        "    dataframe.dropna(inplace=True)\n",
        "    print(dataframe.describe())\n",
        "    print(dataframe.info())\n",
        "    return dataframe"
      ]
    },
    {
      "cell_type": "markdown",
      "source": [
        "**Model**"
      ],
      "metadata": {
        "id": "vVB2SOiEE4Z1"
      }
    },
    {
      "cell_type": "code",
      "source": [
        "from tensorflow.keras.layers import Embedding, LSTM, Bidirectional, Dense\n",
        "from tensorflow.keras import Sequential\n",
        "\n",
        "def model_creation(vocab_size, embedding_dim, embedding_matrix,\n",
        "                   rnn_units,\n",
        "                   train_embed=False):\n",
        "    model = Sequential(\n",
        "        [\n",
        "            Embedding(vocab_size, embedding_dim,\n",
        "                      weights=[embedding_matrix], trainable=train_embed, mask_zero=True),\n",
        "            Bidirectional(LSTM(rnn_units, return_sequences=True, dropout=0.5)),\n",
        "            Bidirectional(LSTM(rnn_units, dropout=0.25)),\n",
        "            Dense(1, activation=\"sigmoid\")\n",
        "        ])\n",
        "\n",
        "    return model"
      ],
      "metadata": {
        "id": "lo7NaURZE3gx"
      },
      "execution_count": null,
      "outputs": []
    },
    {
      "cell_type": "markdown",
      "source": [
        "**Encoding**"
      ],
      "metadata": {
        "id": "HY03X7LkGZYC"
      }
    },
    {
      "cell_type": "code",
      "source": [
        "import numpy as np\n",
        "from tensorflow.keras.preprocessing import sequence\n",
        "import tensorflow as tf\n",
        "\n",
        "def encode_pad_transform(encoder, sample):\n",
        "    encoded = encoder.encode(sample.numpy())\n",
        "    pad = sequence.pad_sequences([encoded], padding='post',\n",
        "                             maxlen=150)\n",
        "    return np.array(pad[0], dtype=np.int64)\n",
        "\n",
        "def encode_tf_fn(sample, label):\n",
        "    encoded = tf.py_function(encode_pad_transform,\n",
        "                             inp=[sample],\n",
        "                             Tout=(tf.int64))\n",
        "    encoded.set_shape([None])\n",
        "    return encoded, label"
      ],
      "metadata": {
        "id": "pBjZk8ZWGYBd"
      },
      "execution_count": null,
      "outputs": []
    },
    {
      "cell_type": "markdown",
      "source": [
        "**Glove Emebedding**"
      ],
      "metadata": {
        "id": "UzLS_UU2GdS-"
      }
    },
    {
      "cell_type": "code",
      "source": [
        "import numpy as np\n",
        "from tensorflow.keras.layers import Embedding, LSTM, Bidirectional, Dense\n",
        "from tensorflow.keras import Sequential\n",
        "import tensorflow as tf\n",
        "def load_glove(glove_txt_file):\n",
        "    dict_w2v = {} # dictionary\n",
        "    with open(glove_txt_file, 'r') as file:\n",
        "        for line in file:\n",
        "            tokens = line.split()\n",
        "            word = tokens[0]\n",
        "            vector = np.array(tokens[1:], dtype=np.float32)\n",
        "\n",
        "            if vector.shape[0] == 50:\n",
        "                dict_w2v[word] = vector\n",
        "            else:\n",
        "                print(\"There was an issue with \", word)\n",
        "    print(\"Glove loaded with dictionary size: \", len(dict_w2v))\n",
        "\n",
        "    return dict_w2v\n",
        "\n",
        "def create_embedding_matrix(encoder,dict_w2v):\n",
        "    embedding_dim = 50\n",
        "    embedding_matrix = np.zeros((encoder.vocab_size, embedding_dim))\n",
        "\n",
        "    unknown_count = 0\n",
        "    unknown_set = set()\n",
        "    for word in encoder.tokens:\n",
        "        embedding_vector =  dict_w2v.get(word)\n",
        "\n",
        "        if embedding_vector is not None: # dictionary contains word\n",
        "            # test = encoder.encode(word)\n",
        "            token_id = encoder.encode(word)[0]\n",
        "            embedding_matrix[token_id] = embedding_vector\n",
        "        else:\n",
        "            unknown_count += 1\n",
        "            unknown_set.add(word)\n",
        "    print(embedding_matrix.shape)\n",
        "    print(\"Embedding matrix created with total unknown words: \", unknown_count)\n",
        "    return embedding_matrix\n",
        "\n",
        "def model_creation(vocab_size, embedding_dim, embedding_matrix,\n",
        "                   rnn_units, batch_size,\n",
        "                   train_embed=False):\n",
        "    model = Sequential(\n",
        "        [\n",
        "            Embedding(vocab_size, embedding_dim,\n",
        "                      weights=[embedding_matrix], trainable=train_embed, mask_zero=True),\n",
        "            Bidirectional(LSTM(rnn_units, return_sequences=True, dropout=0.5)),\n",
        "            Bidirectional(LSTM(rnn_units, dropout=0.25)),\n",
        "            Dense(5, activation=\"softmax\")\n",
        "        ])\n",
        "\n",
        "    dot_img_file = 'model_1.png'\n",
        "    tf.keras.utils.plot_model(model, to_file=dot_img_file, show_shapes=True)\n",
        "\n",
        "    return model"
      ],
      "metadata": {
        "id": "G27RvBgVGat7"
      },
      "execution_count": null,
      "outputs": []
    },
    {
      "cell_type": "markdown",
      "source": [
        "**Feature Engineering**"
      ],
      "metadata": {
        "id": "UHVHLSjUGmzV"
      }
    },
    {
      "cell_type": "code",
      "source": [
        "import numpy as np\n",
        "import pandas as pd\n",
        "from tensorflow.keras.preprocessing import sequence\n",
        "import tensorflow as tf\n",
        "import tensorflow_datasets as tfds\n",
        "import pickle\n",
        "\n",
        "\n",
        "class FeatureEngineering():\n",
        "    def __init__(self, dataframe):\n",
        "        self.dataframe = dataframe\n",
        "\n",
        "    def convert_to_tfds(self):\n",
        "        overall_ohc = pd.get_dummies(self.dataframe.overall)\n",
        "        reviewText = self.dataframe.reviewText.values\n",
        "        dataset = tf.data.Dataset.from_tensor_slices((reviewText, overall_ohc))\n",
        "        return dataset\n",
        "\n",
        "    def tokenizing(self,  dataset):\n",
        "        vocabulary_set = set()\n",
        "        tokenizer = tfds.deprecated.text.Tokenizer()\n",
        "        MAX_TOKENS = 0\n",
        "\n",
        "        for reviewText, overall in dataset:\n",
        "            some_tokens = tokenizer.tokenize(reviewText.numpy())\n",
        "            if MAX_TOKENS < len(some_tokens):\n",
        "                MAX_TOKENS = len(some_tokens)\n",
        "            vocabulary_set.update(some_tokens)\n",
        "\n",
        "        encoder = tfds.deprecated.text.TokenTextEncoder(vocabulary_set,\n",
        "                                                        lowercase=True,\n",
        "                                                        tokenizer=tokenizer)\n",
        "        return encoder\n",
        "\n",
        "\n",
        "class Encoding():\n",
        "    def __init__(self, encoder):\n",
        "        self.encoder = encoder\n",
        "\n",
        "    def __encode_pad_transform(self, sample):\n",
        "        encoded = self.encoder.encode(sample.numpy())\n",
        "        pad = sequence.pad_sequences([encoded], padding='post',\n",
        "                                     maxlen=150)\n",
        "        return np.array(pad[0], dtype=np.int64)\n",
        "\n",
        "    def encode_tf_fn(self, sample, label):\n",
        "        encoded = tf.py_function(self.__encode_pad_transform,\n",
        "                                 inp=[sample],\n",
        "                                 Tout=(tf.int64))\n",
        "        encoded.set_shape([None])\n",
        "        return encoded, label"
      ],
      "metadata": {
        "id": "3mWrj1vWGl6J"
      },
      "execution_count": null,
      "outputs": []
    },
    {
      "cell_type": "markdown",
      "source": [
        "**Plotting Module**"
      ],
      "metadata": {
        "id": "c2WnbjANGp2t"
      }
    },
    {
      "cell_type": "code",
      "source": [
        "import matplotlib.pyplot as plt\n",
        "\n",
        "def plot_loss_acc(model_history):\n",
        "    plt.plot(model_history.history['accuracy'])\n",
        "    plt.plot(model_history.history['val_accuracy'])\n",
        "    plt.title('model accuracy')\n",
        "    plt.ylabel('accuracy')\n",
        "    plt.xlabel('epoch')\n",
        "    plt.legend(['train', 'test'], loc='upper left')\n",
        "    plt.show()\n",
        "\n",
        "    plt.plot(model_history.history['loss'])\n",
        "    plt.plot(model_history.history['val_loss'])\n",
        "    plt.title('model loss')\n",
        "    plt.ylabel('loss')\n",
        "    plt.xlabel('epoch')\n",
        "    plt.legend(['train', 'test'], loc='upper left')\n",
        "    plt.show()\n"
      ],
      "metadata": {
        "id": "J3Z_qYACGpaa"
      },
      "execution_count": null,
      "outputs": []
    },
    {
      "cell_type": "markdown",
      "source": [
        "**Training**"
      ],
      "metadata": {
        "id": "U303edUTFle9"
      }
    },
    {
      "cell_type": "code",
      "execution_count": null,
      "metadata": {
        "colab": {
          "base_uri": "https://localhost:8080/",
          "height": 1000
        },
        "id": "i2zy4zKgFPKC",
        "outputId": "268abe52-cd9e-4ff7-e698-d1fa05d02579"
      },
      "outputs": [
        {
          "output_type": "stream",
          "name": "stdout",
          "text": [
            "            overall\n",
            "count  12804.000000\n",
            "mean       3.877773\n",
            "std        1.362103\n",
            "min        1.000000\n",
            "25%        3.000000\n",
            "50%        4.000000\n",
            "75%        5.000000\n",
            "max        5.000000\n",
            "<class 'pandas.core.frame.DataFrame'>\n",
            "Int64Index: 12804 entries, 0 to 12804\n",
            "Data columns (total 2 columns):\n",
            " #   Column      Non-Null Count  Dtype \n",
            "---  ------      --------------  ----- \n",
            " 0   overall     12804 non-null  int64 \n",
            " 1   reviewText  12804 non-null  object\n",
            "dtypes: int64(1), object(1)\n",
            "memory usage: 300.1+ KB\n",
            "None\n",
            "Vocab size:  35210\n",
            "Glove loaded with dictionary size:  400000\n",
            "(35210, 50)\n",
            "Embedding matrix created with total unknown words:  5272\n",
            "Model: \"sequential_2\"\n",
            "_________________________________________________________________\n",
            " Layer (type)                Output Shape              Param #   \n",
            "=================================================================\n",
            " embedding_2 (Embedding)     (None, None, 50)          1760500   \n",
            "                                                                 \n",
            " bidirectional_4 (Bidirectio  (None, None, 256)        183296    \n",
            " nal)                                                            \n",
            "                                                                 \n",
            " bidirectional_5 (Bidirectio  (None, 256)              394240    \n",
            " nal)                                                            \n",
            "                                                                 \n",
            " dense_2 (Dense)             (None, 5)                 1285      \n",
            "                                                                 \n",
            "=================================================================\n",
            "Total params: 2,339,321\n",
            "Trainable params: 2,339,321\n",
            "Non-trainable params: 0\n",
            "_________________________________________________________________\n",
            "None\n",
            "Epoch 1/15\n",
            "257/257 [==============================] - 88s 267ms/step - loss: 1.3518 - accuracy: 0.4622 - precision: 0.5834 - recall: 0.1834 - val_loss: 1.3237 - val_accuracy: 0.4263 - val_precision: 0.8655 - val_recall: 0.0578\n",
            "Epoch 2/15\n",
            "257/257 [==============================] - 63s 247ms/step - loss: 1.2370 - accuracy: 0.4893 - precision: 0.6463 - recall: 0.2700 - val_loss: 1.2882 - val_accuracy: 0.3976 - val_precision: 0.8825 - val_recall: 0.1379\n",
            "Epoch 3/15\n",
            "257/257 [==============================] - 63s 246ms/step - loss: 1.1328 - accuracy: 0.5299 - precision: 0.6898 - recall: 0.3408 - val_loss: 1.0716 - val_accuracy: 0.5503 - val_precision: 0.8146 - val_recall: 0.3251\n",
            "Epoch 4/15\n",
            "257/257 [==============================] - 64s 248ms/step - loss: 1.0497 - accuracy: 0.5662 - precision: 0.7107 - recall: 0.3893 - val_loss: 0.9477 - val_accuracy: 0.6087 - val_precision: 0.8488 - val_recall: 0.4068\n",
            "Epoch 5/15\n",
            "257/257 [==============================] - 63s 246ms/step - loss: 0.9765 - accuracy: 0.5959 - precision: 0.7254 - recall: 0.4364 - val_loss: 0.8692 - val_accuracy: 0.6395 - val_precision: 0.7966 - val_recall: 0.5001\n",
            "Epoch 6/15\n",
            "257/257 [==============================] - 63s 246ms/step - loss: 0.9138 - accuracy: 0.6289 - precision: 0.7372 - recall: 0.4905 - val_loss: 0.8330 - val_accuracy: 0.6579 - val_precision: 0.7886 - val_recall: 0.5237\n",
            "Epoch 7/15\n",
            "257/257 [==============================] - 64s 251ms/step - loss: 0.8560 - accuracy: 0.6503 - precision: 0.7461 - recall: 0.5358 - val_loss: 0.7480 - val_accuracy: 0.6991 - val_precision: 0.8107 - val_recall: 0.5780\n",
            "Epoch 8/15\n",
            "257/257 [==============================] - 64s 247ms/step - loss: 0.8024 - accuracy: 0.6761 - precision: 0.7551 - recall: 0.5771 - val_loss: 0.6535 - val_accuracy: 0.7364 - val_precision: 0.8144 - val_recall: 0.6553\n",
            "Epoch 9/15\n",
            "257/257 [==============================] - 63s 243ms/step - loss: 0.7452 - accuracy: 0.6999 - precision: 0.7726 - recall: 0.6133 - val_loss: 0.5618 - val_accuracy: 0.7788 - val_precision: 0.8333 - val_recall: 0.7196\n",
            "Epoch 10/15\n",
            "257/257 [==============================] - 65s 251ms/step - loss: 0.7021 - accuracy: 0.7184 - precision: 0.7804 - recall: 0.6440 - val_loss: 0.5656 - val_accuracy: 0.7805 - val_precision: 0.8295 - val_recall: 0.7315\n",
            "Epoch 11/15\n",
            "257/257 [==============================] - 64s 250ms/step - loss: 0.6587 - accuracy: 0.7381 - precision: 0.7949 - recall: 0.6746 - val_loss: 0.4969 - val_accuracy: 0.8121 - val_precision: 0.8557 - val_recall: 0.7723\n",
            "Epoch 12/15\n",
            "257/257 [==============================] - 63s 244ms/step - loss: 0.6193 - accuracy: 0.7581 - precision: 0.8031 - recall: 0.6995 - val_loss: 0.4505 - val_accuracy: 0.8328 - val_precision: 0.8695 - val_recall: 0.7965\n",
            "Epoch 13/15\n",
            "257/257 [==============================] - 63s 247ms/step - loss: 0.5875 - accuracy: 0.7727 - precision: 0.8160 - recall: 0.7195 - val_loss: 0.4028 - val_accuracy: 0.8512 - val_precision: 0.8811 - val_recall: 0.8203\n",
            "Epoch 14/15\n",
            "257/257 [==============================] - 63s 246ms/step - loss: 0.5521 - accuracy: 0.7880 - precision: 0.8241 - recall: 0.7393 - val_loss: 0.3275 - val_accuracy: 0.8864 - val_precision: 0.9120 - val_recall: 0.8600\n",
            "Epoch 15/15\n",
            "257/257 [==============================] - 63s 245ms/step - loss: 0.5046 - accuracy: 0.8070 - precision: 0.8403 - recall: 0.7707 - val_loss: 0.3168 - val_accuracy: 0.8873 - val_precision: 0.9036 - val_recall: 0.8709\n",
            "103/103 [==============================] - 10s 100ms/step - loss: 0.3168 - accuracy: 0.8873 - precision: 0.9036 - recall: 0.8709\n"
          ]
        },
        {
          "output_type": "display_data",
          "data": {
            "image/png": "[encoded data removed]",
            "text/plain": [
              "<Figure size 432x288 with 1 Axes>"
            ]
          },
          "metadata": {
            "needs_background": "light"
          }
        },
        {
          "output_type": "display_data",
          "data": {
            "image/png": "[encoded data removed]",
            "text/plain": [
              "<Figure size 432x288 with 1 Axes>"
            ]
          },
          "metadata": {
            "needs_background": "light"
          }
        }
      ],
      "source": [
        "import os\n",
        "import tensorflow as tf\n",
        "\n",
        "df_sentiment = load_dataframe(\"/content/LFS_Datasets/Software_5.json\")\n",
        "feature_engineering = FeatureEngineering(df_sentiment)\n",
        "DATASET_SIZE = df_sentiment.size\n",
        "\n",
        "dataset = feature_engineering.convert_to_tfds()\n",
        "encoder = feature_engineering.tokenizing(dataset)\n",
        "\n",
        "# with open(definition.ENCODER_PATH, 'wb') as encoder_file:\n",
        "#     pickle.dump(encoder, encoder_file, protocol=pickle.HIGHEST_PROTOCOL)\n",
        "\n",
        "\n",
        "vocab_size = encoder.vocab_size\n",
        "print(\"Vocab size: \", vocab_size)\n",
        "\n",
        "train_data = dataset.take(int(0.8 * DATASET_SIZE))\n",
        "test_data = dataset.take(int(0.2 * DATASET_SIZE))\n",
        "\n",
        "ec = Encoding(encoder)\n",
        "encoded_train = train_data.map(ec.encode_tf_fn,\n",
        "                            num_parallel_calls=tf.data.experimental.AUTOTUNE)\n",
        "encoded_test = test_data.map(ec.encode_tf_fn,\n",
        "                            num_parallel_calls=tf.data.experimental.AUTOTUNE)\n",
        "\n",
        "dict_w2v = load_glove('/content/LFS_Datasets/glove.6B.50d.txt')\n",
        "\n",
        "embedding_matrix = create_embedding_matrix(encoder, dict_w2v)\n",
        "\n",
        "rnn_units = 128\n",
        "BATCH_SIZE = 50\n",
        "\n",
        "model_fine_tuning = model_creation(\n",
        "    vocab_size = vocab_size,\n",
        "    embedding_matrix= embedding_matrix,\n",
        "    embedding_dim=50,\n",
        "    rnn_units=rnn_units,\n",
        "    batch_size=BATCH_SIZE,\n",
        "    train_embed=True\n",
        ")\n",
        "\n",
        "print(model_fine_tuning.summary())\n",
        "\n",
        "model_fine_tuning.compile(loss='categorical_crossentropy',\n",
        "                          optimizer='adam',\n",
        "                          metrics=['accuracy', 'Precision', 'Recall'])\n",
        "encoded_train_batched = encoded_train.batch(BATCH_SIZE).prefetch(100)\n",
        "encoded_test_batched = encoded_test.batch(BATCH_SIZE).prefetch(100)\n",
        "\n",
        "with tf.device('gpu'):\n",
        "    model_history = model_fine_tuning.fit(encoded_train_batched, epochs=15, validation_data=encoded_test_batched)\n",
        "\n",
        "model_fine_tuning.evaluate(encoded_test_batched)\n",
        "plot_loss_acc(model_history)\n"
      ]
    },
    {
      "cell_type": "code",
      "source": [
        "prediction_text = \" This game is definitely worth the money if you are into a violent, gory, fast-paced shooter. The music is awesome, graphics are great, and it stays pretty entertaining throughout. It has some problems with pacing and difficulty, but overall is an awesome game. \""
      ],
      "metadata": {
        "id": "uNDVpEsDIpkS"
      },
      "execution_count": null,
      "outputs": []
    },
    {
      "cell_type": "code",
      "source": [
        "review_feature = np.array([prediction_text])\n",
        "review_label = np.arange(5).reshape(1, 5)\n",
        "\n",
        "review_dataset = tf.data.Dataset.from_tensor_slices((review_feature, review_label))\n",
        "encoded_test = review_dataset.map(ec.encode_tf_fn,\n",
        "                                  num_parallel_calls=tf.data.experimental.AUTOTUNE)\n",
        "\n",
        "prediction = model_fine_tuning.predict(encoded_test.batch(1))\n",
        "prediction_dict = dict(enumerate(prediction.flatten(), 1))\n",
        "prediction_dict = dict(sorted(prediction_dict.items(), key=lambda item: item[1]))\n",
        "\n",
        "print(prediction_dict)\n",
        "\n"
      ],
      "metadata": {
        "colab": {
          "base_uri": "https://localhost:8080/"
        },
        "id": "gijvluevGO7M",
        "outputId": "faa17f2c-21bc-471c-dcc5-3c6e293ad126"
      },
      "execution_count": null,
      "outputs": [
        {
          "output_type": "stream",
          "name": "stdout",
          "text": [
            "{1: 2.739368e-05, 2: 4.8684597e-05, 3: 0.0037412634, 4: 0.24209617, 5: 0.7540865}\n"
          ]
        }
      ]
    },
    {
      "cell_type": "code",
      "source": [
        ""
      ],
      "metadata": {
        "id": "ksVQGtulR4T2"
      },
      "execution_count": null,
      "outputs": []
    }
  ],
  "metadata": {
    "accelerator": "GPU",
    "colab": {
      "collapsed_sections": [],
      "name": "ReviewSentiment.ipynb",
      "provenance": []
    },
    "kernelspec": {
      "display_name": "Python 3",
      "name": "python3"
    },
    "language_info": {
      "name": "python"
    }
  },
  "nbformat": 4,
  "nbformat_minor": 0
}